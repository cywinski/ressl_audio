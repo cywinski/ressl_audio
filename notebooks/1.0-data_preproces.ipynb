{
 "cells": [
  {
   "cell_type": "code",
   "execution_count": null,
   "metadata": {},
   "outputs": [],
   "source": [
    "import sys\n",
    "\n",
    "sys.path.append(\"..\")\n",
    "\n",
    "from pathlib import Path\n",
    "from dataset.audio_data import WavDatasetPair\n",
    "import torch\n",
    "from matplotlib import pyplot as plt\n",
    "import librosa\n",
    "import numpy as np\n"
   ]
  },
  {
   "cell_type": "code",
   "execution_count": null,
   "metadata": {},
   "outputs": [],
   "source": [
    "audio_dir = \"../data/audioset/all\"\n",
    "sample_file = sorted(Path(audio_dir).glob(\"*.wav\"))[0]\n"
   ]
  },
  {
   "cell_type": "code",
   "execution_count": null,
   "metadata": {},
   "outputs": [],
   "source": [
    "sample_file\n"
   ]
  },
  {
   "cell_type": "code",
   "execution_count": null,
   "metadata": {},
   "outputs": [],
   "source": [
    "from dataset.audio_augmentations import (\n",
    "    get_contrastive_augment,\n",
    "    get_weak_augment,\n",
    "    PrecomputedNorm,\n",
    ")\n"
   ]
  },
  {
   "cell_type": "code",
   "execution_count": null,
   "metadata": {},
   "outputs": [],
   "source": [
    "contrastive_augment = get_contrastive_augment()\n",
    "weak_augment = get_weak_augment()\n"
   ]
  },
  {
   "cell_type": "code",
   "execution_count": null,
   "metadata": {},
   "outputs": [],
   "source": [
    "ds = WavDatasetPair(\n",
    "    sample_rate=16000,\n",
    "    audio_files=[sample_file],\n",
    "    labels=None,\n",
    "    random_crop=True,\n",
    "    contrastive_aug=contrastive_augment,\n",
    "    weak_aug=weak_augment,\n",
    ")\n"
   ]
  },
  {
   "cell_type": "code",
   "execution_count": null,
   "metadata": {},
   "outputs": [],
   "source": [
    "dl = torch.utils.data.DataLoader(\n",
    "    ds,\n",
    "    batch_size=1,\n",
    "    num_workers=1,\n",
    "    pin_memory=True,\n",
    "    shuffle=True,\n",
    ")\n"
   ]
  },
  {
   "cell_type": "markdown",
   "metadata": {},
   "source": [
    "## Augmented waveforms"
   ]
  },
  {
   "cell_type": "code",
   "execution_count": null,
   "metadata": {},
   "outputs": [],
   "source": [
    "wavs = next(iter(dl))\n"
   ]
  },
  {
   "cell_type": "code",
   "execution_count": null,
   "metadata": {},
   "outputs": [],
   "source": [
    "wavs[0][0].shape\n"
   ]
  },
  {
   "cell_type": "code",
   "execution_count": null,
   "metadata": {},
   "outputs": [],
   "source": [
    "orig_wav = librosa.load(sample_file, sr=16000)[0]\n",
    "l = len(orig_wav)\n",
    "unit_samples = int(16000 * 0.95)\n",
    "if l > unit_samples:\n",
    "    start = np.random.randint(l - unit_samples)\n",
    "    orig_wav = orig_wav[start : start + unit_samples]\n",
    "elif l < unit_samples:\n",
    "    orig_wav = np.pad(orig_wav, (0, unit_samples - l), mode=\"constant\", value=0)\n"
   ]
  },
  {
   "cell_type": "code",
   "execution_count": null,
   "metadata": {},
   "outputs": [],
   "source": [
    "import matplotlib.pyplot as plt\n",
    "\n",
    "fig, axs = plt.subplots(nrows=3, ncols=1, figsize=(8, 12), sharex=True)\n",
    "\n",
    "\n",
    "axs[0].plot(orig_wav)\n",
    "axs[0].set_title(\"original wav\")\n",
    "\n",
    "axs[1].plot(wavs[0][0].numpy())\n",
    "axs[1].set_title(\"contrastive aug\")\n",
    "\n",
    "axs[2].plot(wavs[1][0].numpy())\n",
    "axs[2].set_title(\"weak aug\")\n",
    "\n",
    "plt.show()\n"
   ]
  },
  {
   "cell_type": "markdown",
   "metadata": {},
   "source": [
    "## Log mel-spectrograms"
   ]
  },
  {
   "cell_type": "code",
   "execution_count": null,
   "metadata": {},
   "outputs": [],
   "source": [
    "from dataset.audio_augmentations import NormalizeBatch, PrecomputedNorm\n",
    "import nnAudio.features\n"
   ]
  },
  {
   "cell_type": "code",
   "execution_count": null,
   "metadata": {},
   "outputs": [],
   "source": [
    "post_norm = NormalizeBatch()\n",
    "# pre_norm = PrecomputedNorm()\n",
    "to_spec = nnAudio.features.MelSpectrogram(\n",
    "    sr=16000,\n",
    "    n_fft=1024,\n",
    "    win_length=1024,\n",
    "    hop_length=160,\n",
    "    n_mels=64,\n",
    "    fmin=60,\n",
    "    fmax=7800,\n",
    "    center=True,\n",
    "    power=2,\n",
    "    verbose=False,\n",
    ")\n"
   ]
  },
  {
   "cell_type": "code",
   "execution_count": null,
   "metadata": {},
   "outputs": [],
   "source": [
    "torch.from_numpy(orig_wav).unsqueeze(0).shape\n"
   ]
  },
  {
   "cell_type": "code",
   "execution_count": null,
   "metadata": {},
   "outputs": [],
   "source": [
    "img0 = (to_spec(torch.from_numpy(orig_wav).unsqueeze(0)) + torch.finfo().eps).unsqueeze(\n",
    "    1\n",
    ")\n",
    "img1 = (to_spec(wavs[0]) + torch.finfo().eps).unsqueeze(1)\n",
    "img2 = (to_spec(wavs[1]) + torch.finfo().eps).unsqueeze(1)\n"
   ]
  },
  {
   "cell_type": "code",
   "execution_count": null,
   "metadata": {},
   "outputs": [],
   "source": [
    "fig, axs = plt.subplots(nrows=3, ncols=1, figsize=(8, 12), sharex=True)\n",
    "\n",
    "S_dB_0 = librosa.power_to_db(img0[0, 0, :, :].numpy(), ref=np.max)\n",
    "img0 = librosa.display.specshow(\n",
    "    S_dB_0, x_axis=\"time\", y_axis=\"mel\", sr=16000, fmax=8000, ax=axs[0]\n",
    ")\n",
    "\n",
    "S_dB_1 = librosa.power_to_db(img1[0, 0, :, :].numpy(), ref=np.max)\n",
    "img1 = librosa.display.specshow(\n",
    "    S_dB_1, x_axis=\"time\", y_axis=\"mel\", sr=16000, fmax=8000, ax=axs[1]\n",
    ")\n",
    "\n",
    "S_dB_2 = librosa.power_to_db(img2[0, 0, :, :].numpy(), ref=np.max)\n",
    "img2 = librosa.display.specshow(\n",
    "    S_dB_2, x_axis=\"time\", y_axis=\"mel\", sr=16000, fmax=8000, ax=axs[2]\n",
    ")\n",
    "\n",
    "fig.colorbar(img0, ax=axs[0], format=\"%+2.0f dB\")\n",
    "fig.colorbar(img1, ax=axs[1], format=\"%+2.0f dB\")\n",
    "fig.colorbar(img2, ax=axs[2], format=\"%+2.0f dB\")\n",
    "\n",
    "plt.show()\n"
   ]
  }
 ],
 "metadata": {
  "kernelspec": {
   "display_name": "ressl_env",
   "language": "python",
   "name": "python3"
  },
  "language_info": {
   "codemirror_mode": {
    "name": "ipython",
    "version": 3
   },
   "file_extension": ".py",
   "mimetype": "text/x-python",
   "name": "python",
   "nbconvert_exporter": "python",
   "pygments_lexer": "ipython3",
   "version": "3.9.18"
  }
 },
 "nbformat": 4,
 "nbformat_minor": 2
}
